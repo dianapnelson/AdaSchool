{
  "nbformat": 4,
  "nbformat_minor": 0,
  "metadata": {
    "colab": {
      "provenance": [],
      "authorship_tag": "ABX9TyNhQt0xlkcSXkKj/8pkKhC+",
      "include_colab_link": true
    },
    "kernelspec": {
      "name": "python3",
      "display_name": "Python 3"
    },
    "language_info": {
      "name": "python"
    }
  },
  "cells": [
    {
      "cell_type": "markdown",
      "metadata": {
        "id": "view-in-github",
        "colab_type": "text"
      },
      "source": [
        "<a href=\"https://colab.research.google.com/github/dianapnelson/AdaSchool/blob/main/Practica_1_Diana_Nelson.ipynb\" target=\"_parent\"><img src=\"https://colab.research.google.com/assets/colab-badge.svg\" alt=\"Open In Colab\"/></a>"
      ]
    },
    {
      "cell_type": "markdown",
      "source": [
        "# **Práctica 1- Diana Nelson**"
      ],
      "metadata": {
        "id": "9xl4bAWIQvgU"
      }
    },
    {
      "cell_type": "markdown",
      "source": [
        "Variable de cada tipo de primitivo\n"
      ],
      "metadata": {
        "id": "wTzqhr19M4hM"
      }
    },
    {
      "cell_type": "code",
      "execution_count": 2,
      "metadata": {
        "colab": {
          "base_uri": "https://localhost:8080/"
        },
        "id": "I6L1YBrQMz4P",
        "outputId": "4f7edef7-63fa-4383-e28b-af141d7a9306"
      },
      "outputs": [
        {
          "output_type": "stream",
          "name": "stdout",
          "text": [
            "Nombre Diana\n",
            "Edad 39\n",
            "Estatura 1.64\n",
            "Tiene Perros True\n"
          ]
        }
      ],
      "source": [
        "nombre= \"Diana\"\n",
        "edad= 39\n",
        "estatura= 1.64\n",
        "perros= True\n",
        "\n",
        "\n",
        "#resultados\n",
        "print (\"Nombre\", nombre)\n",
        "print (\"Edad\", edad)\n",
        "print(\"Estatura\",estatura)\n",
        "print (\"Tiene Perros\",perros)"
      ]
    },
    {
      "cell_type": "markdown",
      "source": [
        "Concatena a la cadena las otras variables aplicando la conversión correcta para funcionar, guarda el resultado en una variable"
      ],
      "metadata": {
        "id": "GdOlIweZPIV-"
      }
    },
    {
      "cell_type": "code",
      "source": [
        "str(edad)"
      ],
      "metadata": {
        "colab": {
          "base_uri": "https://localhost:8080/",
          "height": 35
        },
        "id": "zmObGW2NPQoT",
        "outputId": "1ba8e454-f579-4643-835d-fdd0ea0269d8"
      },
      "execution_count": 16,
      "outputs": [
        {
          "output_type": "execute_result",
          "data": {
            "text/plain": [
              "'39'"
            ],
            "application/vnd.google.colaboratory.intrinsic+json": {
              "type": "string"
            }
          },
          "metadata": {},
          "execution_count": 16
        }
      ]
    },
    {
      "cell_type": "code",
      "source": [
        "str(estatura)"
      ],
      "metadata": {
        "colab": {
          "base_uri": "https://localhost:8080/",
          "height": 35
        },
        "id": "c1Y0KGDiG3zy",
        "outputId": "7ba6df25-28e2-4d72-d48b-d5d8c31cc6b4"
      },
      "execution_count": 17,
      "outputs": [
        {
          "output_type": "execute_result",
          "data": {
            "text/plain": [
              "'1.64'"
            ],
            "application/vnd.google.colaboratory.intrinsic+json": {
              "type": "string"
            }
          },
          "metadata": {},
          "execution_count": 17
        }
      ]
    },
    {
      "cell_type": "code",
      "source": [
        "str(perros)"
      ],
      "metadata": {
        "colab": {
          "base_uri": "https://localhost:8080/",
          "height": 35
        },
        "id": "txGSyzQ-HEco",
        "outputId": "f2c74661-c417-4897-bd04-5f42b4d60f75"
      },
      "execution_count": 18,
      "outputs": [
        {
          "output_type": "execute_result",
          "data": {
            "text/plain": [
              "'True'"
            ],
            "application/vnd.google.colaboratory.intrinsic+json": {
              "type": "string"
            }
          },
          "metadata": {},
          "execution_count": 18
        }
      ]
    },
    {
      "cell_type": "code",
      "source": [
        "resultado = nombre + str(edad) + str(estatura) + str(perros)\n",
        "print(resultado)"
      ],
      "metadata": {
        "colab": {
          "base_uri": "https://localhost:8080/"
        },
        "id": "8aKxMPGmHmf6",
        "outputId": "0d0a4f95-2b66-4e17-ddb7-3a6f154a4521"
      },
      "execution_count": 22,
      "outputs": [
        {
          "output_type": "stream",
          "name": "stdout",
          "text": [
            "Diana391.64True\n"
          ]
        }
      ]
    },
    {
      "cell_type": "markdown",
      "source": [
        "# **Investiga sobre el límite de los enteros y los flotantes en python y anotar sus descubrimientos como comentarios en el archivo**"
      ],
      "metadata": {
        "id": "dL-QZuPJJUh9"
      }
    },
    {
      "cell_type": "code",
      "source": [
        "#Los enteros tiene precisión ilimitada. Los números en coma flotante se implementan normalmente usando el tipo double de C (Fuente Docs Python)"
      ],
      "metadata": {
        "id": "ZhROVQWGJpyp"
      },
      "execution_count": null,
      "outputs": []
    },
    {
      "cell_type": "markdown",
      "source": [
        "# **Aplica la fórmula de la suma de los primeros n números pares (investigar), tomando como n la variable de tipo entero y almacenar el resultado en una variable**"
      ],
      "metadata": {
        "id": "alKGlQL3J-AP"
      }
    },
    {
      "cell_type": "code",
      "source": [
        "def suma_numeros_pares(n):\n",
        "    suma = 0\n",
        "    for i in range(1, n + 1):\n",
        "        numero_par = 2 * i\n",
        "        suma += numero_par\n",
        "    return suma\n",
        "\n",
        "n = int(input(\"Ingrese un valor para n: \"))\n",
        "resultado = suma_numeros_pares(n)\n",
        "print(f\"La suma de los primeros {n} números pares es: {resultado}\")"
      ],
      "metadata": {
        "colab": {
          "base_uri": "https://localhost:8080/"
        },
        "id": "3rIbBwSmKAtt",
        "outputId": "204eca80-b4a3-49e3-fc61-d3653317a265"
      },
      "execution_count": 24,
      "outputs": [
        {
          "output_type": "stream",
          "name": "stdout",
          "text": [
            "Ingrese un valor para n: 10\n",
            "La suma de los primeros 10 números pares es: 110\n"
          ]
        }
      ]
    }
  ]
}